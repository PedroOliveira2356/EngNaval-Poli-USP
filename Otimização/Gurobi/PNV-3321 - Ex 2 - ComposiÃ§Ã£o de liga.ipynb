{
 "cells": [
  {
   "cell_type": "markdown",
   "metadata": {},
   "source": [
    "# 2 - Problema de produção (composição de liga)"
   ]
  },
  {
   "cell_type": "code",
   "execution_count": 1,
   "metadata": {},
   "outputs": [],
   "source": [
    "import gurobipy as gp\n",
    "from gurobipy import GRB"
   ]
  },
  {
   "cell_type": "code",
   "execution_count": 2,
   "metadata": {},
   "outputs": [],
   "source": [
    "# Minério\n",
    "minerios = 3\n",
    "qtd_max = [1000, 2000, 3000]\n",
    "coef_minerio = [-75.0 - 120.0, -90 - 100.0, -120.0 - 110.0] \n",
    "I = [i for i in range(3)]\n",
    "\n",
    "# Metais\n",
    "metais = 4\n",
    "componentes = [[0.20, 0.10, 0.30, 0.30, 0.10], [0.10, 0.20, 0.30, 0.30, 0.10], [0.05, 0.05, 0.70, 0.20, 0.0]]\n",
    "J = [j for j in range(4)]\n",
    "\n",
    "# Ligas\n",
    "ligas = 2\n",
    "coef_liga = [750.0 - 150.0, 600.0 - 135.0]\n",
    "K = [k for k in range(2)]"
   ]
  },
  {
   "cell_type": "code",
   "execution_count": 6,
   "metadata": {},
   "outputs": [],
   "source": [
    "# Modelo\n",
    "m = gp.Model(\"Liga\")\n",
    "\n",
    "# Variáveis de decisão\n",
    "# Quantidade produzida da liga k\n",
    "w = m.addVars (K, vtype = GRB.CONTINUOUS, obj = coef_liga, name = \"w\")\n",
    "\n",
    "# Quantidade de minério i adquirida\n",
    "x = m.addVars (I, vtype = GRB.CONTINUOUS, obj = coef_minerio, name = \"x\")\n",
    "\n",
    "# Quantidade de metal j na composição da liga k\n",
    "y = m.addVars (J, K, vtype = GRB.CONTINUOUS, obj = 0.0, name = \"y\")\n",
    "\n",
    "# Restrições\n",
    "# 1. Limite máximo de minério adquirido\n",
    "m.addConstr(x[0] <= 1000, name = \"lim_0\")\n",
    "m.addConstr(x[1] <= 2000, name = \"lim_1\")\n",
    "m.addConstr(x[2] <= 3000, name = \"lim_2\")\n",
    "\n",
    "# 2. Quantidade de metal\n",
    "m.addConstr(y[0,0] + y[0,1] <= 0.2*x[0] + 0.1*x[1] + 0.05*x[2], name = \"qtd_metal_0\")\n",
    "m.addConstr(y[1,0] + y[1,1] <= 0.1*x[0] + 0.2*x[1] + 0.05*x[2], name = \"qtd_metal_1\")\n",
    "m.addConstr(y[2,0] + y[2,1] <= 0.3*x[0] + 0.3*x[1] + 0.7*x[2], name = \"qtd_metal_2\")\n",
    "m.addConstr(y[3,0] + y[3,1] <= 0.3*x[0] + 0.3*x[1] + 0.2*x[2], name = \"qtd_metal_3\")\n",
    "\n",
    "# 3. Liga produzida\n",
    "m.addConstr(w[0] <= y[0,0] + y[1,0] + y[2,0] + y[3,0], name = \"liga_0\")\n",
    "m.addConstr(w[1] <= y[1,0] + y[1,1] + y[2,1] + y[3,1], name = \"liga_1\")\n",
    "\n",
    "# 4. Proporção\n",
    "m.addConstr(y[0,0] <= 0.8*w[0] , name = \"prop_0\")\n",
    "m.addConstr(y[1,0] <= 0.3*w[0] , name = \"prop_1\")\n",
    "m.addConstr(y[3,0] >= 0.5*w[0] , name = \"prop_2\")\n",
    "m.addConstr(y[1,1] >= 0.4*w[1] , name = \"prop_3\")\n",
    "m.addConstr(y[1,1] <= 0.6*w[1] , name = \"prop_4\")\n",
    "m.addConstr(y[2,1] >= 0.3*w[1] , name = \"prop_5\")\n",
    "m.addConstr(y[3,1] <= 0.7*w[1] , name = \"prop_6\")\n",
    "\n",
    "# Função de objetivo = Maximização\n",
    "m. ModelSense = GRB.MAXIMIZE\n",
    "\n",
    "m.update()\n",
    "m.write(\"Modelo_Liga.lp\")"
   ]
  },
  {
   "cell_type": "code",
   "execution_count": 7,
   "metadata": {},
   "outputs": [
    {
     "name": "stdout",
     "output_type": "stream",
     "text": [
      "Gurobi Optimizer version 10.0.2 build v10.0.2rc0 (win64)\n",
      "\n",
      "CPU model: Intel(R) Core(TM) i7-9750H CPU @ 2.60GHz, instruction set [SSE2|AVX|AVX2]\n",
      "Thread count: 6 physical cores, 12 logical processors, using up to 12 threads\n",
      "\n",
      "Optimize a model with 16 rows, 13 columns and 47 nonzeros\n",
      "Model fingerprint: 0x9807bdae\n",
      "Coefficient statistics:\n",
      "  Matrix range     [5e-02, 1e+00]\n",
      "  Objective range  [2e+02, 6e+02]\n",
      "  Bounds range     [0e+00, 0e+00]\n",
      "  RHS range        [1e+03, 3e+03]\n",
      "Presolve removed 5 rows and 3 columns\n",
      "Presolve time: 0.01s\n",
      "Presolved: 11 rows, 10 columns, 45 nonzeros\n",
      "\n",
      "Iteration    Objective       Primal Inf.    Dual Inf.      Time\n",
      "       0    1.6072314e+06   4.724722e+02   0.000000e+00      0s\n",
      "       6    1.2906250e+06   0.000000e+00   0.000000e+00      0s\n",
      "\n",
      "Solved in 6 iterations and 0.01 seconds (0.00 work units)\n",
      "Optimal objective  1.290625000e+06\n"
     ]
    }
   ],
   "source": [
    "m.optimize()"
   ]
  },
  {
   "cell_type": "code",
   "execution_count": 8,
   "metadata": {
    "scrolled": true
   },
   "outputs": [
    {
     "name": "stdout",
     "output_type": "stream",
     "text": [
      "Função Objetivo = 1290625.0\n",
      "\n",
      "Quantidade de Minério Adquirida\n",
      "x[0] = 1000.0\n",
      "x[1] = 2000.0\n",
      "x[2] = 3000.0\n",
      "\n",
      "Quantidade de Metal na Composição das Ligas\n",
      "y[0,0] = 550.0\n",
      "y[0,1] = 0.0\n",
      "y[1,0] = 0.0\n",
      "y[1,1] = 650.0\n",
      "y[2,0] = 950.0\n",
      "y[2,1] = 2050.0\n",
      "y[3,0] = 1500.0\n",
      "y[3,1] = 0.0\n",
      "\n",
      "Quantidade de Liga Produzida\n",
      "w[0] = 3000.0\n",
      "w[1] = 1625.0\n",
      "\n",
      "Checagem das Proporções\n",
      "Limite máximo para y[0,0] = 2400.0 -> y[0,0] = 550.0\n",
      "Limite máximo para y[1,0] = 900.0 -> y[1,0] = 0.0\n",
      "Limite mínimo para y[3,0] = 1500.0 -> y[3,0] = 1500.0\n",
      "Limite mínimo para y[1,1] = 650.0 -> y[1,1] = 650.0\n",
      "Limite máximo para y[1,1] = 975.0 -> y[1,1] = 650.0\n",
      "Limite mínimo para y[2,1] = 487.5 -> y[2,1] = 2050.0\n",
      "Limite máximo para y[3,1] = 1137.5 -> y[3,1] = 0.0\n"
     ]
    }
   ],
   "source": [
    "print(f\"Função Objetivo = {m.ObjVal}\")\n",
    "\n",
    "print()\n",
    "print(\"Quantidade de Minério Adquirida\")\n",
    "for i in I:\n",
    "    print(f\"{x[i].VarName} = {x[i].x}\")\n",
    "\n",
    "print()\n",
    "print(\"Quantidade de Metal na Composição das Ligas\")\n",
    "for j in J:\n",
    "    for k in K:\n",
    "        print(f\"{y[j,k].VarName} = {y[j,k].x}\")\n",
    "\n",
    "print()\n",
    "print(\"Quantidade de Liga Produzida\")\n",
    "for k in K:\n",
    "    print(f\"{w[k].VarName} = {w[k].x}\")\n",
    "\n",
    "print()\n",
    "print(\"Checagem das Proporções\")\n",
    "print(f\"Limite máximo para y[0,0] = {0.8*w[0].x} -> y[0,0] = {y[0,0].x}\")\n",
    "print(f\"Limite máximo para y[1,0] = {0.3*w[0].x} -> y[1,0] = {y[1,0].x}\")\n",
    "print(f\"Limite mínimo para y[3,0] = {0.5*w[0].x} -> y[3,0] = {y[3,0].x}\")\n",
    "print(f\"Limite mínimo para y[1,1] = {0.4*w[1].x} -> y[1,1] = {y[1,1].x}\")\n",
    "print(f\"Limite máximo para y[1,1] = {0.6*w[1].x} -> y[1,1] = {y[1,1].x}\")\n",
    "print(f\"Limite mínimo para y[2,1] = {0.3*w[1].x} -> y[2,1] = {y[2,1].x}\")\n",
    "print(f\"Limite máximo para y[3,1] = {0.7*w[1].x} -> y[3,1] = {y[3,1].x}\")"
   ]
  },
  {
   "cell_type": "code",
   "execution_count": null,
   "metadata": {},
   "outputs": [],
   "source": []
  }
 ],
 "metadata": {
  "kernelspec": {
   "display_name": "Python 3 (ipykernel)",
   "language": "python",
   "name": "python3"
  },
  "language_info": {
   "codemirror_mode": {
    "name": "ipython",
    "version": 3
   },
   "file_extension": ".py",
   "mimetype": "text/x-python",
   "name": "python",
   "nbconvert_exporter": "python",
   "pygments_lexer": "ipython3",
   "version": "3.11.4"
  }
 },
 "nbformat": 4,
 "nbformat_minor": 4
}
