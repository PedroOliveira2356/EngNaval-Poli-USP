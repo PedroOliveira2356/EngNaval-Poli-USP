{
 "cells": [
  {
   "cell_type": "markdown",
   "metadata": {},
   "source": [
    "# 3 - Problema de investimentos em projetos"
   ]
  },
  {
   "cell_type": "code",
   "execution_count": 1,
   "metadata": {},
   "outputs": [],
   "source": [
    "import gurobipy as gp\n",
    "from gurobipy import GRB"
   ]
  },
  {
   "cell_type": "code",
   "execution_count": 2,
   "metadata": {},
   "outputs": [],
   "source": [
    "projetos = 6\n",
    "periodos = 4\n",
    "I = [i for i in range(projetos)]\n",
    "J = [j for j in range(periodos)]"
   ]
  },
  {
   "cell_type": "code",
   "execution_count": 3,
   "metadata": {},
   "outputs": [],
   "source": [
    "lucro = [32.4, 35.8, 17.75, 14.8, 18.2, 12.35]\n",
    "recursos = [60, 70, 35, 20]"
   ]
  },
  {
   "cell_type": "code",
   "execution_count": 4,
   "metadata": {},
   "outputs": [],
   "source": [
    "desembolso = [[10.5, 14.4, 2.2, 2.4],[8.3, 12.6, 9.5, 3.1],[10.2, 14.2, 5.6, 4.2],\n",
    "              [7.2, 10.5, 7.5, 5.0],[12.3, 10.1, 8.3, 6.3],[9.2, 7.8, 6.9, 5.1]]\n",
    "custo_total = [29.5, 33.5, 34.2, 30.2, 37.0, 29.0]"
   ]
  },
  {
   "cell_type": "markdown",
   "metadata": {},
   "source": [
    "### Caso A"
   ]
  },
  {
   "cell_type": "code",
   "execution_count": 5,
   "metadata": {},
   "outputs": [
    {
     "name": "stdout",
     "output_type": "stream",
     "text": [
      "Set parameter Username\n",
      "Academic license - for non-commercial use only - expires 2023-12-07\n",
      "Gurobi Optimizer version 10.0.2 build v10.0.2rc0 (win64)\n",
      "\n",
      "CPU model: Intel(R) Core(TM) i7-9750H CPU @ 2.60GHz, instruction set [SSE2|AVX|AVX2]\n",
      "Thread count: 6 physical cores, 12 logical processors, using up to 12 threads\n",
      "\n",
      "Optimize a model with 4 rows, 6 columns and 24 nonzeros\n",
      "Model fingerprint: 0xc4be9124\n",
      "Variable types: 0 continuous, 6 integer (6 binary)\n",
      "Coefficient statistics:\n",
      "  Matrix range     [2e+00, 1e+01]\n",
      "  Objective range  [1e+01, 4e+01]\n",
      "  Bounds range     [1e+00, 1e+00]\n",
      "  RHS range        [2e+01, 7e+01]\n",
      "Found heuristic solution: objective 113.1000000\n",
      "Presolve removed 3 rows and 2 columns\n",
      "Presolve time: 0.03s\n",
      "Presolved: 1 rows, 4 columns, 4 nonzeros\n",
      "Variable types: 0 continuous, 4 integer (4 binary)\n",
      "\n",
      "Root relaxation: cutoff, 0 iterations, 0.01 seconds (0.00 work units)\n",
      "\n",
      "Explored 1 nodes (0 simplex iterations) in 0.08 seconds (0.00 work units)\n",
      "Thread count was 12 (of 12 available processors)\n",
      "\n",
      "Solution count 1: 113.1 \n",
      "\n",
      "Optimal solution found (tolerance 1.00e-04)\n",
      "Best objective 1.131000000000e+02, best bound 1.131000000000e+02, gap 0.0000%\n",
      "Projeto 1 -> Executar (1-sim, 0-não): 1.0\n",
      "Projeto 2 -> Executar (1-sim, 0-não): 1.0\n",
      "Projeto 3 -> Executar (1-sim, 0-não): 1.0\n",
      "Projeto 4 -> Executar (1-sim, 0-não): 1.0\n",
      "Projeto 5 -> Executar (1-sim, 0-não): -0.0\n",
      "Projeto 6 -> Executar (1-sim, 0-não): 1.0\n"
     ]
    }
   ],
   "source": [
    "# Modelo\n",
    "m = gp.Model(\"Investimento-a\")\n",
    "\n",
    "# Variáveis de decisão\n",
    "x = m.addVars (I, vtype = GRB.BINARY, obj = lucro, name = \"x\")\n",
    "\n",
    "# Restrições\n",
    "# Respeitar a disponibilidade de recursos\n",
    "m.addConstrs(gp.quicksum(x[i]*desembolso[i][j] for i in I) <= recursos[j] for j in J)\n",
    "\n",
    "m.ModelSense = GRB.MAXIMIZE\n",
    "m.update()\n",
    "m.write(\"Modelo_Investimento-a.lp\")\n",
    "m.optimize()\n",
    "\n",
    "# Saída...\n",
    "for i in range(projetos):\n",
    "    print(f\"Projeto {i+1} -> Executar (1-sim, 0-não): {x[i].x}\")"
   ]
  },
  {
   "cell_type": "markdown",
   "metadata": {},
   "source": [
    "### Caso B"
   ]
  },
  {
   "cell_type": "code",
   "execution_count": 9,
   "metadata": {},
   "outputs": [
    {
     "name": "stdout",
     "output_type": "stream",
     "text": [
      "Gurobi Optimizer version 10.0.2 build v10.0.2rc0 (win64)\n",
      "\n",
      "CPU model: Intel(R) Core(TM) i7-9750H CPU @ 2.60GHz, instruction set [SSE2|AVX|AVX2]\n",
      "Thread count: 6 physical cores, 12 logical processors, using up to 12 threads\n",
      "\n",
      "Optimize a model with 6 rows, 6 columns and 28 nonzeros\n",
      "Model fingerprint: 0xdcee6905\n",
      "Variable types: 0 continuous, 6 integer (6 binary)\n",
      "Coefficient statistics:\n",
      "  Matrix range     [1e+00, 1e+01]\n",
      "  Objective range  [1e+01, 4e+01]\n",
      "  Bounds range     [1e+00, 1e+00]\n",
      "  RHS range        [1e+00, 7e+01]\n",
      "Found heuristic solution: objective 71.7500000\n",
      "Presolve removed 6 rows and 6 columns\n",
      "Presolve time: 0.00s\n",
      "Presolve: All rows and columns removed\n",
      "\n",
      "Explored 0 nodes (0 simplex iterations) in 0.02 seconds (0.00 work units)\n",
      "Thread count was 1 (of 12 available processors)\n",
      "\n",
      "Solution count 3: 98.75 98.75 71.75 \n",
      "\n",
      "Optimal solution found (tolerance 1.00e-04)\n",
      "Best objective 9.875000000000e+01, best bound 9.875000000000e+01, gap 0.0000%\n",
      "Projeto 1 -> Executar (1-sim, 0-não): 1.0\n",
      "Projeto 2 -> Executar (1-sim, 0-não): 1.0\n",
      "Projeto 3 -> Executar (1-sim, 0-não): 0.0\n",
      "Projeto 4 -> Executar (1-sim, 0-não): 0.0\n",
      "Projeto 5 -> Executar (1-sim, 0-não): 1.0\n",
      "Projeto 6 -> Executar (1-sim, 0-não): 1.0\n"
     ]
    }
   ],
   "source": [
    "# Modelo\n",
    "m = gp.Model(\"Investimento-b\")\n",
    "\n",
    "# Variáveis de decisão\n",
    "x = m.addVars (I, vtype = GRB.BINARY, obj = lucro, name = \"x\")\n",
    "\n",
    "# Restrições\n",
    "# Respeitar a disponibilidade de recursos\n",
    "m.addConstrs(gp.quicksum(x[i]*desembolso[i][j] for i in I) <= recursos[j] for j in J)\n",
    "\n",
    "# Projetos não conduzidos simultaneamente\n",
    "m.addConstr(x[1] + x[3] <= 1, \"c02\")\n",
    "\n",
    "# Projetos conduzidos simultaneamente\n",
    "m.addConstr(x[0] - x[5] == 0, \"c03\")\n",
    "\n",
    "m.ModelSense = GRB.MAXIMIZE\n",
    "m.update()\n",
    "m.write(\"Modelo_Investimento-b.lp\")\n",
    "m.optimize()\n",
    "\n",
    "# Saída...\n",
    "for i in range(projetos):\n",
    "    print(f\"Projeto {i+1} -> Executar (1-sim, 0-não): {x[i].x}\")\n"
   ]
  },
  {
   "cell_type": "markdown",
   "metadata": {},
   "source": [
    "### Caso C"
   ]
  },
  {
   "cell_type": "code",
   "execution_count": 7,
   "metadata": {},
   "outputs": [
    {
     "name": "stdout",
     "output_type": "stream",
     "text": [
      "Gurobi Optimizer version 10.0.2 build v10.0.2rc0 (win64)\n",
      "\n",
      "CPU model: Intel(R) Core(TM) i7-9750H CPU @ 2.60GHz, instruction set [SSE2|AVX|AVX2]\n",
      "Thread count: 6 physical cores, 12 logical processors, using up to 12 threads\n",
      "\n",
      "Optimize a model with 4 rows, 12 columns and 31 nonzeros\n",
      "Model fingerprint: 0x89d9c235\n",
      "Variable types: 6 continuous, 6 integer (6 binary)\n",
      "Coefficient statistics:\n",
      "  Matrix range     [1e+00, 1e+01]\n",
      "  Objective range  [1e+01, 4e+01]\n",
      "  Bounds range     [1e+00, 1e+00]\n",
      "  RHS range        [2e+01, 7e+01]\n",
      "Presolve removed 0 rows and 3 columns\n",
      "Presolve time: 0.00s\n",
      "Presolved: 4 rows, 9 columns, 29 nonzeros\n",
      "Variable types: 0 continuous, 9 integer (6 binary)\n",
      "Found heuristic solution: objective 118.9500000\n",
      "\n",
      "Explored 0 nodes (0 simplex iterations) in 0.02 seconds (0.00 work units)\n",
      "Thread count was 12 (of 12 available processors)\n",
      "\n",
      "Solution count 1: 118.95 \n",
      "\n",
      "Optimal solution found (tolerance 1.00e-04)\n",
      "Best objective 1.189500000000e+02, best bound 1.189500000000e+02, gap 0.0000%\n",
      "Projeto 1 -> Executar (1-sim, 0-não): 1.0\n",
      "Projeto 2 -> Executar (1-sim, 0-não): 1.0\n",
      "Projeto 3 -> Executar (1-sim, 0-não): 1.0\n",
      "Projeto 4 -> Executar (1-sim, 0-não): 1.0\n",
      "Projeto 5 -> Executar (1-sim, 0-não): 1.0\n",
      "Projeto 6 -> Executar (1-sim, 0-não): -0.0\n"
     ]
    }
   ],
   "source": [
    "# Modelo\n",
    "m = gp.Model(\"Investimento-c\")\n",
    "\n",
    "# Variáveis de decisão\n",
    "x = m.addVars (I, vtype = GRB.BINARY, obj = lucro, name = \"x\")\n",
    "s = m.addVars (I, vtype = GRB.CONTINUOUS, lb = 0.0, obj = 0.0, name = \"s\")\n",
    "\n",
    "# Restrições\n",
    "# Respeitar a disponibilidade de recursos - Ano 0\n",
    "m.addConstr(s[0] + gp.quicksum(x[i]*desembolso[i][0] for i in I) == recursos[0])\n",
    "\n",
    "# Respeitar a disponibilidade de recursos - Anos 1, 2 e 3\n",
    "m.addConstrs(s[j] + gp.quicksum(x[i]*desembolso[i][j] for i in I) == recursos[j] + s[j-1] for j in J if j>0)\n",
    "\n",
    "m.ModelSense = GRB.MAXIMIZE\n",
    "m.update()\n",
    "m.write(\"Modelo_Investimento-c.lp\")\n",
    "m.optimize()\n",
    "\n",
    "# Saída...\n",
    "for i in range(projetos):\n",
    "    print(f\"Projeto {i+1} -> Executar (1-sim, 0-não): {x[i].x}\")"
   ]
  },
  {
   "cell_type": "markdown",
   "metadata": {},
   "source": [
    "### Caso D"
   ]
  },
  {
   "cell_type": "code",
   "execution_count": 6,
   "metadata": {},
   "outputs": [
    {
     "name": "stdout",
     "output_type": "stream",
     "text": [
      "Gurobi Optimizer version 10.0.2 build v10.0.2rc0 (win64)\n",
      "\n",
      "CPU model: Intel(R) Core(TM) i7-9750H CPU @ 2.60GHz, instruction set [SSE2|AVX|AVX2]\n",
      "Thread count: 6 physical cores, 12 logical processors, using up to 12 threads\n",
      "\n",
      "Optimize a model with 4 rows, 6 columns and 24 nonzeros\n",
      "Model fingerprint: 0xd6a4783e\n",
      "Coefficient statistics:\n",
      "  Matrix range     [2e+00, 1e+01]\n",
      "  Objective range  [1e+01, 4e+01]\n",
      "  Bounds range     [1e+00, 1e+00]\n",
      "  RHS range        [2e+01, 7e+01]\n",
      "Presolve removed 2 rows and 0 columns\n",
      "Presolve time: 0.01s\n",
      "Presolved: 2 rows, 6 columns, 12 nonzeros\n",
      "\n",
      "Iteration    Objective       Primal Inf.    Dual Inf.      Time\n",
      "       0    5.1545455e+02   9.727273e+00   0.000000e+00      0s\n",
      "       3    1.1606111e+02   0.000000e+00   0.000000e+00      0s\n",
      "\n",
      "Solved in 3 iterations and 0.02 seconds (0.00 work units)\n",
      "Optimal objective  1.160611111e+02\n",
      "Projeto 1 -> Executar (1-sim, 0-não): 1.0\n",
      "Projeto 2 -> Executar (1-sim, 0-não): 1.0\n",
      "Projeto 3 -> Executar (1-sim, 0-não): 1.0\n",
      "Projeto 4 -> Executar (1-sim, 0-não): 1.0\n",
      "Projeto 5 -> Executar (1-sim, 0-não): 0.8412698412698414\n",
      "Projeto 6 -> Executar (1-sim, 0-não): 0.0\n"
     ]
    }
   ],
   "source": [
    "# Modelo\n",
    "m = gp.Model(\"Investimento-d\")\n",
    "\n",
    "# Variáveis de decisão\n",
    "x = m.addVars (I, vtype = GRB.CONTINUOUS, lb = 0.0, ub = 1.0, obj = lucro, name = \"x\")\n",
    "\n",
    "# Restrições\n",
    "# Respeitar a disponibilidade de recursos\n",
    "m.addConstrs(gp.quicksum(x[i]*desembolso[i][j] for i in I) <= recursos[j] for j in J)\n",
    "\n",
    "m.ModelSense = GRB.MAXIMIZE\n",
    "m.update()\n",
    "m.write(\"Modelo_Investimento-d.lp\")\n",
    "m.optimize()\n",
    "\n",
    "# Saída...\n",
    "for i in range(projetos):\n",
    "    print(f\"Projeto {i+1} -> Executar (1-sim, 0-não): {x[i].x}\")"
   ]
  },
  {
   "attachments": {},
   "cell_type": "markdown",
   "metadata": {},
   "source": [
    "### Caso E"
   ]
  },
  {
   "cell_type": "code",
   "execution_count": 16,
   "metadata": {},
   "outputs": [
    {
     "name": "stdout",
     "output_type": "stream",
     "text": [
      "Gurobi Optimizer version 10.0.2 build v10.0.2rc0 (win64)\n",
      "\n",
      "CPU model: Intel(R) Core(TM) i7-9750H CPU @ 2.60GHz, instruction set [SSE2|AVX|AVX2]\n",
      "Thread count: 6 physical cores, 12 logical processors, using up to 12 threads\n",
      "\n",
      "Optimize a model with 10 rows, 30 columns and 54 nonzeros\n",
      "Model fingerprint: 0xd4e92efd\n",
      "Variable types: 24 continuous, 6 integer (6 binary)\n",
      "Coefficient statistics:\n",
      "  Matrix range     [1e+00, 4e+01]\n",
      "  Objective range  [1e+01, 4e+01]\n",
      "  Bounds range     [1e+00, 1e+00]\n",
      "  RHS range        [2e+01, 7e+01]\n",
      "Found heuristic solution: objective -0.0000000\n",
      "Presolve time: 0.00s\n",
      "Presolved: 10 rows, 30 columns, 54 nonzeros\n",
      "Variable types: 24 continuous, 6 integer (6 binary)\n",
      "Found heuristic solution: objective 113.1000000\n",
      "\n",
      "Root relaxation: objective 1.277228e+02, 11 iterations, 0.01 seconds (0.00 work units)\n",
      "\n",
      "    Nodes    |    Current Node    |     Objective Bounds      |     Work\n",
      " Expl Unexpl |  Obj  Depth IntInf | Incumbent    BestBd   Gap | It/Node Time\n",
      "\n",
      "     0     0  127.72276    0    1  113.10000  127.72276  12.9%     -    0s\n",
      "H    0     0                     113.5500000  127.72276  12.5%     -    0s\n",
      "H    0     0                     118.9500000  127.72276  7.38%     -    0s\n",
      "\n",
      "Cutting planes:\n",
      "  Gomory: 1\n",
      "\n",
      "Explored 1 nodes (11 simplex iterations) in 0.05 seconds (0.00 work units)\n",
      "Thread count was 12 (of 12 available processors)\n",
      "\n",
      "Solution count 4: 118.95 113.55 113.1 -0 \n",
      "\n",
      "Optimal solution found (tolerance 1.00e-04)\n",
      "Best objective 1.189500000000e+02, best bound 1.189500000000e+02, gap 0.0000%\n",
      "Projeto 1 -> Executar (1-sim, 0-não): 1.0\n",
      "Projeto 2 -> Executar (1-sim, 0-não): 1.0\n",
      "Projeto 3 -> Executar (1-sim, 0-não): 1.0\n",
      "Projeto 4 -> Executar (1-sim, 0-não): 1.0\n",
      "Projeto 5 -> Executar (1-sim, 0-não): 1.0\n",
      "Projeto 6 -> Executar (1-sim, 0-não): 0.0\n"
     ]
    }
   ],
   "source": [
    "# Nesta versão do problema foi admitido que qualquer fração do projeto possa ser realizada em qualquer ano,\n",
    "# e que o desembolso em cada ano é proporcional à fração realizada do projeto.\n",
    "\n",
    "# Modelo\n",
    "m = gp.Model(\"Investimento-e\")\n",
    "\n",
    "# Variáveis de decisão\n",
    "x = m.addVars (I, vtype = GRB.BINARY, obj = lucro, name = \"x\")\n",
    "y = m.addVars (I, J, vtype = GRB.CONTINUOUS, lb = 0.0, ub = 1.0, obj = 0.0, name = \"y\")\n",
    "\n",
    "# Restrições\n",
    "# Respeitar a disponibilidade de recursos\n",
    "m.addConstrs(gp.quicksum(y[i,j]*custo_total[i] for i in I) <= recursos[j] for j in J)\n",
    "\n",
    "# As frações devem ser igual a 0 ou 1\n",
    "m.addConstrs(gp.quicksum(y[i,j] for j in J) == x[i] for i in I)\n",
    "\n",
    "m.ModelSense = GRB.MAXIMIZE\n",
    "m.update()\n",
    "m.write(\"Modelo_Investimento-e.lp\")\n",
    "m.optimize()\n",
    "\n",
    "# Saída...\n",
    "for i in range(projetos):\n",
    "    print(f\"Projeto {i+1} -> Executar (1-sim, 0-não): {x[i].x}\")"
   ]
  },
  {
   "cell_type": "code",
   "execution_count": null,
   "metadata": {},
   "outputs": [],
   "source": []
  }
 ],
 "metadata": {
  "kernelspec": {
   "display_name": "Python 3 (ipykernel)",
   "language": "python",
   "name": "python3"
  },
  "language_info": {
   "codemirror_mode": {
    "name": "ipython",
    "version": 3
   },
   "file_extension": ".py",
   "mimetype": "text/x-python",
   "name": "python",
   "nbconvert_exporter": "python",
   "pygments_lexer": "ipython3",
   "version": "3.11.4"
  }
 },
 "nbformat": 4,
 "nbformat_minor": 4
}
