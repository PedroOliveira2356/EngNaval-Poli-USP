{
 "cells": [
  {
   "cell_type": "code",
   "execution_count": 2,
   "id": "9191798e-1e75-4e8b-9f31-c0318ebc52f1",
   "metadata": {},
   "outputs": [
    {
     "ename": "ModuleNotFoundError",
     "evalue": "No module named 'gurobipy'",
     "output_type": "error",
     "traceback": [
      "\u001b[0;31m---------------------------------------------------------------------------\u001b[0m",
      "\u001b[0;31mModuleNotFoundError\u001b[0m                       Traceback (most recent call last)",
      "Cell \u001b[0;32mIn[2], line 1\u001b[0m\n\u001b[0;32m----> 1\u001b[0m \u001b[38;5;28;01mimport\u001b[39;00m \u001b[38;5;21;01mgurobipy\u001b[39;00m \u001b[38;5;28;01mas\u001b[39;00m \u001b[38;5;21;01mgp\u001b[39;00m\n\u001b[1;32m      2\u001b[0m \u001b[38;5;28;01mfrom\u001b[39;00m \u001b[38;5;21;01mgurobipy\u001b[39;00m \u001b[38;5;28;01mimport\u001b[39;00m GRB\n",
      "\u001b[0;31mModuleNotFoundError\u001b[0m: No module named 'gurobipy'"
     ]
    }
   ],
   "source": [
    "import gurobipy as gp\n",
    "from gurobipy import GRB"
   ]
  },
  {
   "cell_type": "code",
   "execution_count": 15,
   "id": "a331e21d-ea49-457b-b479-44c66b1a0d5c",
   "metadata": {},
   "outputs": [],
   "source": [
    "tipos = 3\n",
    "rotas = 4\n",
    "cap = [40, 60, 100]\n",
    "frota = [7, 8, 6]\n",
    "demanda = [650, 710, 610, 950]\n",
    "numViagens = [[3, 2, 2, 1], [4, 3, 3, 2], [5, 4, 4, 2]]\n",
    "custo = [[1500, 1900, 2100, 2800],[2100, 2600, 2800, 3700],[3200, 3700, 3900, 5800]]\n",
    "custo1 = [[0.01, 0.01, 0.01, 0.01],[0.01, 0.01, 0.01, 0.01],[0.01, 0.01, 0.01, 0.01]]\n",
    "\n",
    "I = [i for i in range(tipos)]\n",
    "J = [j for j in range(rotas)]"
   ]
  },
  {
   "cell_type": "code",
   "execution_count": 16,
   "id": "09f7a410-ce2c-4dff-9056-35f48aa4be83",
   "metadata": {},
   "outputs": [
    {
     "name": "stdout",
     "output_type": "stream",
     "text": [
      "Gurobi Optimizer version 10.0.2 build v10.0.2rc0 (win64)\n",
      "\n",
      "CPU model: Intel(R) Core(TM) i7-9750H CPU @ 2.60GHz, instruction set [SSE2|AVX|AVX2]\n",
      "Thread count: 6 physical cores, 12 logical processors, using up to 12 threads\n",
      "\n",
      "Optimize a model with 19 rows, 24 columns and 48 nonzeros\n",
      "Model fingerprint: 0x7b0387d5\n",
      "Variable types: 0 continuous, 24 integer (0 binary)\n",
      "Coefficient statistics:\n",
      "  Matrix range     [1e+00, 1e+02]\n",
      "  Objective range  [1e-02, 6e+03]\n",
      "  Bounds range     [0e+00, 0e+00]\n",
      "  RHS range        [6e+00, 1e+03]\n",
      "Presolve removed 1 rows and 1 columns\n",
      "Presolve time: 0.00s\n",
      "Presolved: 18 rows, 23 columns, 46 nonzeros\n",
      "Variable types: 0 continuous, 23 integer (0 binary)\n",
      "\n",
      "Root relaxation: infeasible, 20 iterations, 0.00 seconds (0.00 work units)\n",
      "\n",
      "    Nodes    |    Current Node    |     Objective Bounds      |     Work\n",
      " Expl Unexpl |  Obj  Depth IntInf | Incumbent    BestBd   Gap | It/Node Time\n",
      "\n",
      "     0     0 infeasible    0               - infeasible      -     -    0s\n",
      "\n",
      "Explored 1 nodes (20 simplex iterations) in 0.02 seconds (0.00 work units)\n",
      "Thread count was 12 (of 12 available processors)\n",
      "\n",
      "Solution count 0\n",
      "\n",
      "Model is infeasible\n",
      "Best objective -, best bound -, gap -\n"
     ]
    }
   ],
   "source": [
    "# Modelo\n",
    "m = gp.Model(\"Aereo\")\n",
    "\n",
    "# Variáveis de decisão\n",
    "x = m.addVars (I, J, vtype = GRB.INTEGER, obj = custo1, name = \"x\")\n",
    "y = m.addVars (I, J, vtype = GRB.INTEGER, obj = custo, name = \"y\")\n",
    "\n",
    "# Restrições\n",
    "# Não usar mais aeronaves do que o disponível\n",
    "m.addConstrs(gp.quicksum(x[i,j] for j in J) <= frota[i] for i in I)\n",
    "\n",
    "# Atender à demanda de cada rota\n",
    "m.addConstrs(gp.quicksum(y[i,j]*cap[i] for i in I) >= demanda[j]*1.5 for j in J)\n",
    "\n",
    "# Restrição de vínculo\n",
    "m.addConstrs(y[i,j] <= numViagens[i][j]*x[i,j] for i in I for j in J)\n",
    "\n",
    "m. ModelSense = GRB.MINIMIZE\n",
    "        \n",
    "m.update()\n",
    "m.write(\"Modelo_TransporteAereo.lp\")\n",
    "m.optimize()"
   ]
  },
  {
   "cell_type": "code",
   "execution_count": 14,
   "id": "7457cec5-959b-4188-80c8-3a5c1729ae3a",
   "metadata": {},
   "outputs": [
    {
     "name": "stdout",
     "output_type": "stream",
     "text": [
      "Tipo 0 Rota 0 -> Quant. Alocada: 7.0, Núm. Viagens: 21.0\n",
      "Tipo 0 Rota 1 -> Quant. Alocada: 0.0, Núm. Viagens: 0.0\n",
      "Tipo 0 Rota 2 -> Quant. Alocada: 0.0, Núm. Viagens: 0.0\n",
      "Tipo 0 Rota 3 -> Quant. Alocada: 0.0, Núm. Viagens: 0.0\n",
      "Tipo 1 Rota 0 -> Quant. Alocada: 0.0, Núm. Viagens: 0.0\n",
      "Tipo 1 Rota 1 -> Quant. Alocada: 0.0, Núm. Viagens: 0.0\n",
      "Tipo 1 Rota 2 -> Quant. Alocada: 0.0, Núm. Viagens: 0.0\n",
      "Tipo 1 Rota 3 -> Quant. Alocada: 8.0, Núm. Viagens: 16.0\n",
      "Tipo 2 Rota 0 -> Quant. Alocada: 2.0, Núm. Viagens: 10.0\n",
      "Tipo 2 Rota 1 -> Quant. Alocada: 2.0, Núm. Viagens: 8.0\n",
      "Tipo 2 Rota 2 -> Quant. Alocada: 2.0, Núm. Viagens: 8.0\n",
      "Tipo 2 Rota 3 -> Quant. Alocada: 0.0, Núm. Viagens: 0.0\n"
     ]
    }
   ],
   "source": [
    "for i in range(tipos):\n",
    "    for j in range(rotas):\n",
    "        print(f\"Tipo {i} Rota {j} -> Quant. Alocada: {x[i,j].x}, Núm. Viagens: {y[i,j].x}\")"
   ]
  },
  {
   "cell_type": "code",
   "execution_count": null,
   "id": "91a4103c-ec17-4a07-8608-3e3ecf305391",
   "metadata": {},
   "outputs": [],
   "source": []
  }
 ],
 "metadata": {
  "kernelspec": {
   "display_name": "Python 3 (ipykernel)",
   "language": "python",
   "name": "python3"
  },
  "language_info": {
   "codemirror_mode": {
    "name": "ipython",
    "version": 3
   },
   "file_extension": ".py",
   "mimetype": "text/x-python",
   "name": "python",
   "nbconvert_exporter": "python",
   "pygments_lexer": "ipython3",
   "version": "3.11.4"
  }
 },
 "nbformat": 4,
 "nbformat_minor": 5
}
